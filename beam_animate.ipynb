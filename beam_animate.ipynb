{
 "cells": [
  {
   "cell_type": "markdown",
   "metadata": {},
   "source": [
    "# Beamforming animation"
   ]
  },
  {
   "cell_type": "code",
   "execution_count": 6,
   "metadata": {},
   "outputs": [],
   "source": [
    "import numpy as np\n",
    "import plotly.graph_objects as go\n",
    "import beamforming"
   ]
  },
  {
   "cell_type": "markdown",
   "metadata": {},
   "source": [
    "## Create base signal tx_signal with f = 20kHz"
   ]
  },
  {
   "cell_type": "code",
   "execution_count": 7,
   "metadata": {},
   "outputs": [],
   "source": [
    "sample_rate = 1e6\n",
    "N = 10000 # number of samples to simulate\n",
    "\n",
    "# Create a tone to act as the transmitter signal\n",
    "t = np.arange(N)/sample_rate # time vector\n",
    "f_tone = 0.02e6\n",
    "tx_signal = beamforming.create_IQ_signal(f_tone, t)"
   ]
  },
  {
   "cell_type": "markdown",
   "metadata": {},
   "source": [
    "## Generate all beams"
   ]
  },
  {
   "cell_type": "code",
   "execution_count": 11,
   "metadata": {},
   "outputs": [],
   "source": [
    "angles = np.arange(-90, 100, 10)\n",
    "nb_antenas = [3, 5, 10]\n",
    "d_antenas = 0.5\n",
    "\n",
    "results = list()\n",
    "\n",
    "for theta in angles:\n",
    "    results.append(list())\n",
    "    for id_antena in nb_antenas:\n",
    "        results[-1].append(beamforming.calculate_beam(tx_signal, id_antena, d_antenas, theta))"
   ]
  },
  {
   "cell_type": "code",
   "execution_count": 12,
   "metadata": {},
   "outputs": [
    {
     "name": "stdout",
     "output_type": "stream",
     "text": [
      "(19, 3, 1000)\n",
      "(19, 3, 1000)\n"
     ]
    }
   ],
   "source": [
    "theta_scan_deg = np.degrees(np.linspace(-1*np.pi, np.pi, 1000))\n",
    "\n",
    "scan = list()\n",
    "\n",
    "for i, theta in enumerate(angles):\n",
    "    scan.append(list())\n",
    "    for id_antena in range(len(nb_antenas)):\n",
    "        scan[-1].append(list([None]*len(results[i][id_antena])))\n",
    "        index = np.absolute(theta_scan_deg-theta).argmin()\n",
    "        scan[-1][-1][index-1] = results[i][id_antena].min()\n",
    "        scan[-1][-1][index] = 0\n",
    "\n",
    "print(np.array(results).shape)\n",
    "print(np.array(scan).shape)"
   ]
  },
  {
   "cell_type": "markdown",
   "metadata": {},
   "source": [
    "## Plot results"
   ]
  },
  {
   "cell_type": "code",
   "execution_count": null,
   "metadata": {},
   "outputs": [],
   "source": [
    "fig = go.Figure()\n",
    "fig = go.Figure().set_subplots(1, 3, horizontal_spacing=0.1, specs=[ \n",
    "            [{\"type\": \"scatterpolar\"}, {\"type\": \"scatterpolar\"}, {\"type\": \"scatterpolar\"}] ])\n",
    "\n",
    "# subplot 1\n",
    "fig.add_trace(go.Scatterpolar(r=results[0][0], theta=theta_scan_deg, name='scan', mode='lines', showlegend=True), row=1, col=1)\n",
    "fig.add_trace(go.Scatterpolar(r=scan[0], theta=theta_scan_deg, name='beam', mode='lines', showlegend=True, \n",
    "                                  textposition=\"top right\", textfont=dict(color=\"Red\") ), row=1, col=1)\n",
    "fig.update_layout(polar = dict(radialaxis_angle = 90, angularaxis = dict(direction = \"clockwise\" ), sector=[0, 180]) )\n",
    "\n",
    "# subplot 2\n",
    "fig.add_trace(go.Scatterpolar(r=results[0][1], theta=theta_scan_deg, name='scan2', mode='lines', showlegend=True), row=1, col=2)\n",
    "fig.add_trace(go.Scatterpolar(r=scan[1], theta=theta_scan_deg, name='beam2', mode='lines', showlegend=True, \n",
    "                                  textposition=\"top right\", textfont=dict(color=\"Red\") ), row=1, col=2)\n",
    "fig.update_layout(polar2 = dict(radialaxis_angle = 90, angularaxis = dict(direction = \"clockwise\" ), sector=[0, 180]) )\n",
    "\n",
    "# subplot 3\n",
    "fig.add_trace(go.Scatterpolar(r=results[0][2], theta=theta_scan_deg, name='scan3', mode='lines', showlegend=True), row=1, col=3)\n",
    "fig.add_trace(go.Scatterpolar(r=scan[2], theta=theta_scan_deg, name='beam3', mode='lines', showlegend=True, \n",
    "                                  textposition=\"top right\", textfont=dict(color=\"Red\") ), row=1, col=3)\n",
    "fig.update_layout(polar3 = dict(radialaxis_angle = 90, angularaxis = dict(direction = \"clockwise\" ), sector=[0, 180]) )\n",
    "\n",
    "# animation\n",
    "base_text = str(nb_antenas) + \" antenas \" + \"d=\" + str(d_antenas) + \" \"\n",
    "frames = list()\n",
    "for i, r in enumerate(results):\n",
    "    frames.append( go.Frame(data=[  go.Scatterpolar(r=r[0]), go.Scatterpolar(r=scan[i][0]),\n",
    "                                    go.Scatterpolar(r=r[1]), go.Scatterpolar(r=scan[i][1]), \n",
    "                                    go.Scatterpolar(r=r[2]), go.Scatterpolar(r=scan[i][2]) ], \n",
    "                                    layout=go.Layout(title_text=base_text+str(angles[i])+\"°\") ) )\n",
    "\n",
    "# button and style\n",
    "fig.update_layout(updatemenus=[dict(type=\"buttons\", buttons=[dict(label=\"Play\", method=\"animate\", args=[None, dict(frame=dict(duration=2000))]),\n",
    "                               dict(label=\"Pause\", method=\"animate\", args=[[None], dict(frame=dict(duration=0), \n",
    "                                                                                        mode=\"immediate\",\n",
    "                                                                                        transition=dict(duration=0))])])])\n",
    "fig.update(frames=frames)\n",
    "\n",
    "fig.update_layout(template=\"plotly_dark\")\n",
    "fig.show(renderer='browser')  \n",
    "fig.write_html(base_text + \".html\")"
   ]
  }
 ],
 "metadata": {
  "kernelspec": {
   "display_name": "Python 3",
   "language": "python",
   "name": "python3"
  },
  "language_info": {
   "codemirror_mode": {
    "name": "ipython",
    "version": 3
   },
   "file_extension": ".py",
   "mimetype": "text/x-python",
   "name": "python",
   "nbconvert_exporter": "python",
   "pygments_lexer": "ipython3",
   "version": "3.13.0"
  },
  "orig_nbformat": 4
 },
 "nbformat": 4,
 "nbformat_minor": 2
}
