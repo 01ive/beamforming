{
 "cells": [
  {
   "cell_type": "markdown",
   "metadata": {},
   "source": [
    "# Beamforming animation"
   ]
  },
  {
   "cell_type": "code",
   "execution_count": 52,
   "metadata": {},
   "outputs": [],
   "source": [
    "import numpy as np\n",
    "import plotly.graph_objects as go\n",
    "import beamforming"
   ]
  },
  {
   "cell_type": "markdown",
   "metadata": {},
   "source": [
    "## Create base signal tx_signal with f = 20kHz"
   ]
  },
  {
   "cell_type": "code",
   "execution_count": 53,
   "metadata": {},
   "outputs": [],
   "source": [
    "sample_rate = 1e6\n",
    "N = 10000 # number of samples to simulate\n",
    "\n",
    "# Create a tone to act as the transmitter signal\n",
    "t = np.arange(N)/sample_rate # time vector\n",
    "f_tone = 0.02e6\n",
    "tx_signal = beamforming.create_IQ_signal(f_tone, t)"
   ]
  },
  {
   "cell_type": "markdown",
   "metadata": {},
   "source": [
    "## Generate all beams"
   ]
  },
  {
   "cell_type": "code",
   "execution_count": 54,
   "metadata": {},
   "outputs": [],
   "source": [
    "results = list()\n",
    "\n",
    "angles = np.arange(-90, 100, 10)\n",
    "nb_antenas = 10\n",
    "d_antenas = 0.5\n",
    "\n",
    "for theta in angles:\n",
    "    results.append(beamforming.calculate_beam(tx_signal, nb_antenas, d_antenas, theta))\n",
    "\n",
    "theta_scan_deg = np.degrees(np.linspace(-1*np.pi, np.pi, 1000))"
   ]
  },
  {
   "cell_type": "code",
   "execution_count": 55,
   "metadata": {},
   "outputs": [],
   "source": [
    "scan = list()\n",
    "for i, theta in enumerate(angles):\n",
    "    scan.append(list([None]*len(results[i])))\n",
    "    index = np.absolute(theta_scan_deg-theta).argmin()\n",
    "    scan[-1][index-1] = results[i].min()\n",
    "    scan[-1][index] = 0"
   ]
  },
  {
   "cell_type": "markdown",
   "metadata": {},
   "source": [
    "## Plot results"
   ]
  },
  {
   "cell_type": "code",
   "execution_count": 56,
   "metadata": {},
   "outputs": [],
   "source": [
    "fig = go.Figure()\n",
    "fig.add_trace(go.Scatterpolar(r=results[0], theta=theta_scan_deg, name='scan', mode='lines', showlegend=True))\n",
    "\n",
    "fig.add_trace(go.Scatterpolar(r=scan[0], theta=theta_scan_deg, name='beam', mode='lines', showlegend=True, \n",
    "                                  textposition=\"top right\", textfont=dict(color=\"Red\") ))\n",
    "\n",
    "fig.update_layout(polar = dict(radialaxis_angle = 90, angularaxis = dict(direction = \"clockwise\" ), sector=[-180, 180]))\n",
    "fig.update_layout(template=\"plotly_dark\")\n",
    "\n",
    "fig.update_layout(updatemenus=[dict(\n",
    "                  type=\"buttons\",\n",
    "                  buttons=[dict(label=\"Play\",\n",
    "                              method=\"animate\",\n",
    "                              args=[None])])])\n",
    "\n",
    "base_text = str(nb_antenas) + \" antenas \" + \"d=\" + str(d_antenas) + \" \"\n",
    "frames = list()\n",
    "for i, r in enumerate(results):\n",
    "    frames.append( go.Frame(data=[go.Scatterpolar(r=r), go.Scatterpolar(r=scan[i])], layout=go.Layout(title_text=base_text+str(angles[i])+\"°\") ) )\n",
    "fig.update(frames=frames)\n",
    "# fig.show(renderer='browser')  \n",
    "fig.write_html(base_text + \".html\")"
   ]
  }
 ],
 "metadata": {
  "kernelspec": {
   "display_name": "Python 3",
   "language": "python",
   "name": "python3"
  },
  "language_info": {
   "codemirror_mode": {
    "name": "ipython",
    "version": 3
   },
   "file_extension": ".py",
   "mimetype": "text/x-python",
   "name": "python",
   "nbconvert_exporter": "python",
   "pygments_lexer": "ipython3",
   "version": "3.13.0"
  },
  "orig_nbformat": 4
 },
 "nbformat": 4,
 "nbformat_minor": 2
}
