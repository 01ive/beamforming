{
 "cells": [
  {
   "cell_type": "markdown",
   "metadata": {},
   "source": [
    "# BEAMFORMING\n",
    "\n",
    "https://pysdr.org/content/doa.html"
   ]
  },
  {
   "cell_type": "markdown",
   "metadata": {},
   "source": [
    "## Create base signal tx_signal with f = 20kHz\n",
    "$$ tx\\_signal = {e^{j2\\pi ft}} = cos(2\\pi ft) + j \\ sin(2\\pi ft) $$ \n",
    "<p style=\"text-align:center;\">with<p>\n",
    "\n",
    "$$ \\phi = 0 $$ "
   ]
  },
  {
   "cell_type": "code",
   "execution_count": 55,
   "metadata": {},
   "outputs": [],
   "source": [
    "%matplotlib qt"
   ]
  },
  {
   "cell_type": "code",
   "execution_count": 56,
   "metadata": {},
   "outputs": [],
   "source": [
    "# Parameters\n",
    "antena_spacing = 0.5 # half wavelength spacing\n",
    "antena_rx_nbr = 5\n",
    "theta_degrees = 45 # direction of arrival (feel free to change this, it's arbitrary)"
   ]
  },
  {
   "cell_type": "code",
   "execution_count": 57,
   "metadata": {},
   "outputs": [],
   "source": [
    "import numpy as np\n",
    "import matplotlib.pyplot as plt\n",
    "\n",
    "sample_rate = 1e6\n",
    "N = 10000 # number of samples to simulate"
   ]
  },
  {
   "cell_type": "code",
   "execution_count": 58,
   "metadata": {},
   "outputs": [],
   "source": [
    "# Create tx signal\n",
    "t = np.arange(N)/sample_rate\n",
    "f_tone = 0.02e6\n",
    "tx_signal = np.exp(2j * np.pi * f_tone * t)"
   ]
  },
  {
   "cell_type": "code",
   "execution_count": 59,
   "metadata": {},
   "outputs": [],
   "source": [
    "# Create rx signals\n",
    "theta = np.radians(theta_degrees) # convert to radians\n",
    "\n",
    "steering_vectors = np.exp(-2j * np.pi * antena_spacing * np.arange(antena_rx_nbr) * np.sin(theta)) # Steering Vector\n",
    "\n",
    "steering_vectors = steering_vectors.reshape(-1,1) # make steering_vectors a column vector\n",
    "tx_signal = tx_signal.reshape(1,-1) # make tx_signal a row vector\n",
    "\n",
    "rx_signals = steering_vectors * tx_signal # Simulate the received signal rx_signals through a matrix multiply\n",
    "\n",
    "n = np.random.randn(antena_rx_nbr, N) + 1j*np.random.randn(antena_rx_nbr, N)\n",
    "rx_signals = rx_signals + 0.5*n # rx_signals and n are both 3x10000"
   ]
  },
  {
   "cell_type": "code",
   "execution_count": 60,
   "metadata": {},
   "outputs": [],
   "source": [
    "# Beamforming\n",
    "theta_scan = np.linspace(-1*np.pi, np.pi, 1000) # 1000 different thetas between -180 and +180 degrees\n",
    "results = []\n",
    "for theta_i in theta_scan:\n",
    "   w = np.exp(-2j * np.pi * antena_spacing * np.arange(antena_rx_nbr) * np.sin(theta_i)) # Conventional, aka delay-and-sum, beamformer\n",
    "   X_weighted = w.conj().T @ rx_signals # apply our weights. remember rx_signals is 3x10000\n",
    "   results.append(10*np.log10(np.var(X_weighted))) # power in signal, in dB so its easier to see small and large lobes at the same time\n",
    "results -= np.max(results) # normalize (optional)"
   ]
  },
  {
   "cell_type": "code",
   "execution_count": 61,
   "metadata": {},
   "outputs": [
    {
     "name": "stdout",
     "output_type": "stream",
     "text": [
      "134.95495495495493\n"
     ]
    }
   ],
   "source": [
    "# print angle that gave us the max value\n",
    "print(theta_scan[np.argmax(results)] * 180 / np.pi) # 19.99999999999998\n",
    "\n",
    "fig, ax = plt.subplots(subplot_kw={'projection': 'polar'})\n",
    "ax.plot(theta_scan, results) # MAKE SURE TO USE RADIAN FOR POLAR\n",
    "ax.set_theta_zero_location('N') # make 0 degrees point up\n",
    "ax.set_theta_direction(-1) # increase clockwise\n",
    "ax.set_rlabel_position(55)  # Move grid labels away from other labels\n",
    "plt.show()"
   ]
  }
 ],
 "metadata": {
  "kernelspec": {
   "display_name": "Python 3.9.5 64-bit",
   "language": "python",
   "name": "python3"
  },
  "language_info": {
   "codemirror_mode": {
    "name": "ipython",
    "version": 3
   },
   "file_extension": ".py",
   "mimetype": "text/x-python",
   "name": "python",
   "nbconvert_exporter": "python",
   "pygments_lexer": "ipython3",
   "version": "3.9.5"
  },
  "orig_nbformat": 4,
  "vscode": {
   "interpreter": {
    "hash": "0df2a24c704cd7442b04383f6bbc1516b3a028f777e8c12e475975a7b2b8901f"
   }
  }
 },
 "nbformat": 4,
 "nbformat_minor": 2
}
