{
 "cells": [
  {
   "cell_type": "markdown",
   "metadata": {},
   "source": [
    "https://matplotlib.org/stable/gallery/widgets/slider_demo.html\n",
    "\n",
    "A : amplitude de la grandeur, appelée aussi valeur de crête, dans l'unité de la grandeur mesurée\n",
    "\n",
    "ω : pulsation de la grandeur en rad s−1 \n",
    "\n",
    "$ \\omega =2\\pi f={\\frac {2\\pi }{T}} $\n",
    "\n",
    "ω t + φ : phase instantanée en rad\n",
    "\n",
    "φ : phase à l'origine en rad (souvent fixée par l'expérimentateur)"
   ]
  },
  {
   "cell_type": "code",
   "execution_count": 56,
   "metadata": {},
   "outputs": [],
   "source": [
    "import matplotlib.pyplot as plt\n",
    "import numpy as np\n",
    "\n",
    "from matplotlib.widgets import Button, Slider"
   ]
  },
  {
   "cell_type": "code",
   "execution_count": 57,
   "metadata": {},
   "outputs": [],
   "source": [
    "%matplotlib qt"
   ]
  },
  {
   "cell_type": "code",
   "execution_count": 58,
   "metadata": {},
   "outputs": [],
   "source": [
    "# The parametrized function to be plotted\n",
    "def sin_function(t, amplitude, frequency, phase):\n",
    "    return amplitude * np.sin(2 * np.pi * frequency * t + np.radians(phase) )\n",
    "\n",
    "# The function to be called anytime a slider's value changes\n",
    "def update(val):\n",
    "    line.set_ydata(sin_function(t, amp_slider.val, freq_slider.val, phase_slider.val))\n",
    "    fig.canvas.draw_idle()\n",
    "\n",
    "# reset function\n",
    "def reset(event):\n",
    "    freq_slider.reset()\n",
    "    amp_slider.reset()\n",
    "    phase_slider.reset()\n",
    "\n",
    "\n",
    "# Define initial parameters\n",
    "init_amplitude = 5\n",
    "init_frequency = 3\n",
    "init_phase = 0\n",
    "\n",
    "t = np.linspace(0, 1, 1000)\n",
    "\n",
    "# Create the figure and the line that we will manipulate\n",
    "fig, ax = plt.subplots()\n",
    "line, = ax.plot(t, sin_function(t, init_amplitude, init_frequency, init_phase), lw=2)\n",
    "ax.set_xlabel('Time [s]')\n",
    "fig.subplots_adjust(left=0.25, bottom=0.3)     # adjust the main plot to make room for the sliders\n",
    "\n",
    "# Add I/Q\n",
    "# fig_I, ax_I = plt.subplots()\n",
    "# line_I, = ax_I.plot(t, sin_function(t, init_amplitude, init_frequency), lw=2)\n",
    "\n",
    "# Make a horizontal slider to control the frequency.\n",
    "axfreq = fig.add_axes([0.25, 0.1, 0.65, 0.02])\n",
    "freq_slider = Slider(\n",
    "    ax=axfreq,\n",
    "    label='Frequency [Hz]',\n",
    "    valmin=0.1,\n",
    "    valmax=30,\n",
    "    valinit=init_frequency)\n",
    "freq_slider.on_changed(update)\n",
    "\n",
    "# Make a horizontal slider to control the frequency.\n",
    "axphase = fig.add_axes([0.25, 0.15, 0.65, 0.02])\n",
    "phase_slider = Slider(\n",
    "    ax=axphase,\n",
    "    label='phase [°]',\n",
    "    valmin=0,\n",
    "    valmax=360,\n",
    "    valinit=init_phase)\n",
    "phase_slider.on_changed(update)\n",
    "\n",
    "# Make a vertically oriented slider to control the amplitude\n",
    "axamp = fig.add_axes([0.1, 0.25, 0.0225, 0.63])\n",
    "amp_slider = Slider(\n",
    "    ax=axamp,\n",
    "    label=\"Amplitude\",\n",
    "    valmin=0,\n",
    "    valmax=10,\n",
    "    valinit=init_amplitude,\n",
    "    orientation=\"vertical\")\n",
    "amp_slider.on_changed(update)\n",
    "\n",
    "# Create a `matplotlib.widgets.Button` to reset the sliders to initial values.\n",
    "resetax = fig.add_axes([0.8, 0.025, 0.1, 0.04])\n",
    "button = Button(resetax, 'Reset', hovercolor='0.975')\n",
    "button.on_clicked(reset)\n",
    "\n",
    "plt.show()"
   ]
  },
  {
   "cell_type": "markdown",
   "metadata": {},
   "source": []
  }
 ],
 "metadata": {
  "kernelspec": {
   "display_name": "Python 3.9.5 64-bit",
   "language": "python",
   "name": "python3"
  },
  "language_info": {
   "codemirror_mode": {
    "name": "ipython",
    "version": 3
   },
   "file_extension": ".py",
   "mimetype": "text/x-python",
   "name": "python",
   "nbconvert_exporter": "python",
   "pygments_lexer": "ipython3",
   "version": "3.9.5"
  },
  "orig_nbformat": 4,
  "vscode": {
   "interpreter": {
    "hash": "0df2a24c704cd7442b04383f6bbc1516b3a028f777e8c12e475975a7b2b8901f"
   }
  }
 },
 "nbformat": 4,
 "nbformat_minor": 2
}
